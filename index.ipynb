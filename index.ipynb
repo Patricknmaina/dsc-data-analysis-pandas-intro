{
 "cells": [
  {
   "cell_type": "markdown",
   "metadata": {},
   "source": [
    "# Data Analysis in Pandas - Introduction"
   ]
  },
  {
   "cell_type": "markdown",
   "metadata": {},
   "source": [
    "## Introduction\n",
    "\n",
    "In this section, you'll be introduced to pandas, one of the most powerful and widely used libraries for data analysis in Python.\n",
    "\n",
    "## Python Libraries\n",
    "\n",
    "In some cases, such as opening a JSON file to extract a single value, base Python has all of the functionality you need. Other times when the task is more complex, writing your own code to do it can get overwhelming pretty quickly.\n",
    "\n",
    "Luckily one of the great benefits of the Python language is that it has a very active open-source community, which means tons of great libraries and frameworks we can use to do the heavy lifting. One of the main reasons that Python is such a great choice for data science is that the scientific community has written plenty of great packages for various advanced purposes. This means that when we use Python, we have access to a wealth of robust, effective tools written and maintained by an army of volunteers and professionals."
   ]
  },
  {
   "cell_type": "markdown",
   "metadata": {},
   "source": [
    "## Pandas\n",
    "\n",
    "![pandas logo](https://curriculum-content.s3.amazonaws.com/data-science/images/pandas.png)\n",
    "\n",
    "The pandas library will likely be your most-used library over the course of this program. It is a flexible, powerful data analysis library that is especially well-suited to handling tabular data (meaning data that is represented as rows and columns). The name is reminiscent of the term \"panel data\" as well as \"Python data analysis\"."
   ]
  },
  {
   "cell_type": "markdown",
   "metadata": {},
   "source": [
    "### `csv.DictReader` to Pandas\n",
    "\n",
    "The central pandas library feature we will use is the **dataframe** (also styled DataFrame). A dataframe represents tabular data with an integrated index, so data can be selected an manipulated using rows or columns. For some tasks, this means that the syntax can be significantly simpler and more efficient than the equivalent base Python syntax.\n",
    "\n",
    "Let's go over a quick comparison of using pandas vs. the built-in `csv` module.\n",
    "\n",
    "We'll use this dataset about Olympic track and field medal-winners from [kaggle](https://www.kaggle.com/jayrav13/olympic-track-field-results). The first five rows look like this:\n",
    "\n",
    "| Gender | Event      | Location | Year | Medal | Name                  | Nationality | Result   |\n",
    "| ------ | ---------- | -------- | ---- | ----- | --------------------- | ----------- | -------- |\n",
    "| M      | 10000M Men | Rio      | 2016 | G     | Mohamed FARAH         | GBR         | 25:05.17 |\n",
    "| M      | 10000M Men | Rio      | 2016 | S     | Paul Kipngetich TANUI | KEN         | 27:05.64 |\n",
    "| M      | 10000M Men | Rio      | 2016 | B     | Tamirat TOLA          | ETH         | 27:06.26 |\n",
    "| M      | 10000M Men | Beijing  | 2008 | G     | Kenenisa BEKELE       | ETH         | 27:01.17 |\n",
    "| M      | 10000M Men | Beijing  | 2008 | S     | Sileshi SIHINE        | ETH         | 27:02.77 |\n",
    "\n",
    "To open and read the first 5 lines with the `csv` module, that would look like this:"
   ]
  },
  {
   "cell_type": "code",
   "execution_count": 1,
   "metadata": {},
   "outputs": [
    {
     "name": "stdout",
     "output_type": "stream",
     "text": [
      "{'Gender': 'M', 'Event': '10000M Men', 'Location': 'Rio', 'Year': '2016', 'Medal': 'G', 'Name': 'Mohamed FARAH', 'Nationality': 'GBR', 'Result': '25:05.17'}\n",
      "{'Gender': 'M', 'Event': '10000M Men', 'Location': 'Rio', 'Year': '2016', 'Medal': 'S', 'Name': 'Paul Kipngetich TANUI', 'Nationality': 'KEN', 'Result': '27:05.64'}\n",
      "{'Gender': 'M', 'Event': '10000M Men', 'Location': 'Rio', 'Year': '2016', 'Medal': 'B', 'Name': 'Tamirat TOLA', 'Nationality': 'ETH', 'Result': '27:06.26'}\n",
      "{'Gender': 'M', 'Event': '10000M Men', 'Location': 'Beijing', 'Year': '2008', 'Medal': 'G', 'Name': 'Kenenisa BEKELE', 'Nationality': 'ETH', 'Result': '27:01.17'}\n",
      "{'Gender': 'M', 'Event': '10000M Men', 'Location': 'Beijing', 'Year': '2008', 'Medal': 'S', 'Name': 'Sileshi SIHINE', 'Nationality': 'ETH', 'Result': '27:02.77'}\n"
     ]
    }
   ],
   "source": [
    "import csv\n",
    "\n",
    "with open(\"olympic_medals.csv\") as f:\n",
    "    reader = csv.DictReader(f)\n",
    "    olympics_data = list(reader)\n",
    "\n",
    "# Print the first 5 rows of data\n",
    "for index in range(5):\n",
    "    print(olympics_data[index])"
   ]
  },
  {
   "cell_type": "markdown",
   "metadata": {},
   "source": [
    "We have a list of dictionaries, where every dictionary has the same keys.\n",
    "\n",
    "Let's say we want to select all data for the 3rd **row** (record). That's simple enough — we can just use list indexing:"
   ]
  },
  {
   "cell_type": "code",
   "execution_count": 2,
   "metadata": {},
   "outputs": [
    {
     "data": {
      "text/plain": [
       "{'Gender': 'M',\n",
       " 'Event': '10000M Men',\n",
       " 'Location': 'Rio',\n",
       " 'Year': '2016',\n",
       " 'Medal': 'B',\n",
       " 'Name': 'Tamirat TOLA',\n",
       " 'Nationality': 'ETH',\n",
       " 'Result': '27:06.26'}"
      ]
     },
     "execution_count": 2,
     "metadata": {},
     "output_type": "execute_result"
    }
   ],
   "source": [
    "olympics_data[2]"
   ]
  },
  {
   "cell_type": "markdown",
   "metadata": {},
   "source": [
    "Now, what if we want to select all data for the 3rd **column** (i.e. the values associated with the `'Location'` keys)? That's not impossible, but it will require some kind of loop or list comprehension. Something like this:"
   ]
  },
  {
   "cell_type": "code",
   "execution_count": 3,
   "metadata": {},
   "outputs": [
    {
     "name": "stdout",
     "output_type": "stream",
     "text": [
      "['Rio', 'Rio', 'Rio', 'Beijing', 'Beijing', 'Beijing', 'Sydney', 'Sydney', 'Sydney', 'Barcelona', 'Barcelona', 'Barcelona', 'Los Angeles', 'Los Angeles', 'Los Angeles', 'Montreal', 'Montreal', 'Montreal', 'Mexico', 'Mexico', 'Mexico', 'Rome', 'Rome', 'Rome', 'Helsinki', 'Helsinki', 'Helsinki', 'Berlin', 'Berlin', 'Berlin', 'Amsterdam', 'Amsterdam', 'Amsterdam', 'Antwerp', 'Antwerp', 'Antwerp', 'London', 'London', 'London', 'Athens', 'Athens', 'Athens', 'Atlanta', 'Atlanta', 'Atlanta', 'Moscow', 'Moscow', 'Moscow', 'Munich', 'Munich', 'Munich', 'Tokyo', 'Tokyo', 'Tokyo', 'Melbourne / Stockholm', 'Melbourne / Stockholm', 'Melbourne / Stockholm', 'London', 'London', 'London', 'Los Angeles', 'Los Angeles', 'Los Angeles', 'Paris', 'Paris', 'Paris', 'Stockholm', 'Stockholm', 'Stockholm', 'Rio', 'Rio', 'Rio', 'Beijing', 'Beijing', 'Beijing', 'Sydney', 'Sydney', 'Sydney', 'Barcelona', 'Barcelona', 'Barcelona', 'Los Angeles', 'Los Angeles', 'Los Angeles', 'Montreal', 'Montreal', 'Montreal', 'Mexico', 'Mexico', 'Mexico', 'Rome', 'Rome', 'Rome', 'Helsinki', 'Helsinki', 'Helsinki', 'Berlin', 'Berlin', 'Berlin', 'Amsterdam']\n"
     ]
    }
   ],
   "source": [
    "# Cutting it off at 100 for readability\n",
    "print([row['Location'] for row in olympics_data][:100])"
   ]
  },
  {
   "cell_type": "markdown",
   "metadata": {},
   "source": [
    "With pandas, accessing columns is just as simple as accessing rows. For example, if we convert `olympics_data` (a list of dictionaries) in a dataframe, then view the first five rows:"
   ]
  },
  {
   "cell_type": "code",
   "execution_count": 4,
   "metadata": {},
   "outputs": [
    {
     "data": {
      "application/vnd.microsoft.datawrangler.viewer.v0+json": {
       "columns": [
        {
         "name": "index",
         "rawType": "int64",
         "type": "integer"
        },
        {
         "name": "Gender",
         "rawType": "object",
         "type": "string"
        },
        {
         "name": "Event",
         "rawType": "object",
         "type": "string"
        },
        {
         "name": "Location",
         "rawType": "object",
         "type": "string"
        },
        {
         "name": "Year",
         "rawType": "object",
         "type": "string"
        },
        {
         "name": "Medal",
         "rawType": "object",
         "type": "string"
        },
        {
         "name": "Name",
         "rawType": "object",
         "type": "string"
        },
        {
         "name": "Nationality",
         "rawType": "object",
         "type": "string"
        },
        {
         "name": "Result",
         "rawType": "object",
         "type": "string"
        }
       ],
       "conversionMethod": "pd.DataFrame",
       "ref": "59ace7a5-29fa-4347-b3f6-68cca970f5f2",
       "rows": [
        [
         "0",
         "M",
         "10000M Men",
         "Rio",
         "2016",
         "G",
         "Mohamed FARAH",
         "GBR",
         "25:05.17"
        ],
        [
         "1",
         "M",
         "10000M Men",
         "Rio",
         "2016",
         "S",
         "Paul Kipngetich TANUI",
         "KEN",
         "27:05.64"
        ],
        [
         "2",
         "M",
         "10000M Men",
         "Rio",
         "2016",
         "B",
         "Tamirat TOLA",
         "ETH",
         "27:06.26"
        ],
        [
         "3",
         "M",
         "10000M Men",
         "Beijing",
         "2008",
         "G",
         "Kenenisa BEKELE",
         "ETH",
         "27:01.17"
        ],
        [
         "4",
         "M",
         "10000M Men",
         "Beijing",
         "2008",
         "S",
         "Sileshi SIHINE",
         "ETH",
         "27:02.77"
        ]
       ],
       "shape": {
        "columns": 8,
        "rows": 5
       }
      },
      "text/html": [
       "<div>\n",
       "<style scoped>\n",
       "    .dataframe tbody tr th:only-of-type {\n",
       "        vertical-align: middle;\n",
       "    }\n",
       "\n",
       "    .dataframe tbody tr th {\n",
       "        vertical-align: top;\n",
       "    }\n",
       "\n",
       "    .dataframe thead th {\n",
       "        text-align: right;\n",
       "    }\n",
       "</style>\n",
       "<table border=\"1\" class=\"dataframe\">\n",
       "  <thead>\n",
       "    <tr style=\"text-align: right;\">\n",
       "      <th></th>\n",
       "      <th>Gender</th>\n",
       "      <th>Event</th>\n",
       "      <th>Location</th>\n",
       "      <th>Year</th>\n",
       "      <th>Medal</th>\n",
       "      <th>Name</th>\n",
       "      <th>Nationality</th>\n",
       "      <th>Result</th>\n",
       "    </tr>\n",
       "  </thead>\n",
       "  <tbody>\n",
       "    <tr>\n",
       "      <th>0</th>\n",
       "      <td>M</td>\n",
       "      <td>10000M Men</td>\n",
       "      <td>Rio</td>\n",
       "      <td>2016</td>\n",
       "      <td>G</td>\n",
       "      <td>Mohamed FARAH</td>\n",
       "      <td>GBR</td>\n",
       "      <td>25:05.17</td>\n",
       "    </tr>\n",
       "    <tr>\n",
       "      <th>1</th>\n",
       "      <td>M</td>\n",
       "      <td>10000M Men</td>\n",
       "      <td>Rio</td>\n",
       "      <td>2016</td>\n",
       "      <td>S</td>\n",
       "      <td>Paul Kipngetich TANUI</td>\n",
       "      <td>KEN</td>\n",
       "      <td>27:05.64</td>\n",
       "    </tr>\n",
       "    <tr>\n",
       "      <th>2</th>\n",
       "      <td>M</td>\n",
       "      <td>10000M Men</td>\n",
       "      <td>Rio</td>\n",
       "      <td>2016</td>\n",
       "      <td>B</td>\n",
       "      <td>Tamirat TOLA</td>\n",
       "      <td>ETH</td>\n",
       "      <td>27:06.26</td>\n",
       "    </tr>\n",
       "    <tr>\n",
       "      <th>3</th>\n",
       "      <td>M</td>\n",
       "      <td>10000M Men</td>\n",
       "      <td>Beijing</td>\n",
       "      <td>2008</td>\n",
       "      <td>G</td>\n",
       "      <td>Kenenisa BEKELE</td>\n",
       "      <td>ETH</td>\n",
       "      <td>27:01.17</td>\n",
       "    </tr>\n",
       "    <tr>\n",
       "      <th>4</th>\n",
       "      <td>M</td>\n",
       "      <td>10000M Men</td>\n",
       "      <td>Beijing</td>\n",
       "      <td>2008</td>\n",
       "      <td>S</td>\n",
       "      <td>Sileshi SIHINE</td>\n",
       "      <td>ETH</td>\n",
       "      <td>27:02.77</td>\n",
       "    </tr>\n",
       "  </tbody>\n",
       "</table>\n",
       "</div>"
      ],
      "text/plain": [
       "  Gender       Event Location  Year Medal                   Name Nationality  \\\n",
       "0      M  10000M Men      Rio  2016     G          Mohamed FARAH         GBR   \n",
       "1      M  10000M Men      Rio  2016     S  Paul Kipngetich TANUI         KEN   \n",
       "2      M  10000M Men      Rio  2016     B           Tamirat TOLA         ETH   \n",
       "3      M  10000M Men  Beijing  2008     G        Kenenisa BEKELE         ETH   \n",
       "4      M  10000M Men  Beijing  2008     S         Sileshi SIHINE         ETH   \n",
       "\n",
       "     Result  \n",
       "0  25:05.17  \n",
       "1  27:05.64  \n",
       "2  27:06.26  \n",
       "3  27:01.17  \n",
       "4  27:02.77  "
      ]
     },
     "execution_count": 4,
     "metadata": {},
     "output_type": "execute_result"
    }
   ],
   "source": [
    "import pandas as pd\n",
    "\n",
    "df = pd.DataFrame(olympics_data)\n",
    "df.head()"
   ]
  },
  {
   "cell_type": "markdown",
   "metadata": {},
   "source": [
    "We just imported the pandas library as `pd`, the standard alias, then used the `DataFrame` constructor to make a dataframe out of our existing list of dictionaries.\n",
    "\n",
    "Now we can extract all of the information from the 3rd column with a simpler syntax:"
   ]
  },
  {
   "cell_type": "code",
   "execution_count": 5,
   "metadata": {},
   "outputs": [
    {
     "data": {
      "text/plain": [
       "0           Rio\n",
       "1           Rio\n",
       "2           Rio\n",
       "3       Beijing\n",
       "4       Beijing\n",
       "         ...   \n",
       "2389     Athens\n",
       "2390     Athens\n",
       "2391    Atlanta\n",
       "2392    Atlanta\n",
       "2393    Atlanta\n",
       "Name: Location, Length: 2394, dtype: object"
      ]
     },
     "execution_count": 5,
     "metadata": {},
     "output_type": "execute_result"
    }
   ],
   "source": [
    "df['Location']"
   ]
  },
  {
   "cell_type": "markdown",
   "metadata": {},
   "source": [
    "But it's also very easy to extract information by row, just like it was with the list of dictionaries:"
   ]
  },
  {
   "cell_type": "code",
   "execution_count": null,
   "metadata": {},
   "outputs": [
    {
     "data": {
      "text/plain": [
       "Gender                    M\n",
       "Event            10000M Men\n",
       "Location                Rio\n",
       "Year                   2016\n",
       "Medal                     B\n",
       "Name           Tamirat TOLA\n",
       "Nationality             ETH\n",
       "Result             27:06.26\n",
       "Name: 2, dtype: object"
      ]
     },
     "execution_count": 6,
     "metadata": {},
     "output_type": "execute_result"
    }
   ],
   "source": [
    "df.iloc[2] # iloc is used to extract information by row in a DataFrame"
   ]
  },
  {
   "cell_type": "markdown",
   "metadata": {},
   "source": [
    "We can also skip the `csv` module and `olympics_data` variable altogether, and just read the data from the CSV file directly. All you need to do is specify the file path:"
   ]
  },
  {
   "cell_type": "code",
   "execution_count": 9,
   "metadata": {},
   "outputs": [
    {
     "data": {
      "application/vnd.microsoft.datawrangler.viewer.v0+json": {
       "columns": [
        {
         "name": "index",
         "rawType": "int64",
         "type": "integer"
        },
        {
         "name": "Gender",
         "rawType": "object",
         "type": "string"
        },
        {
         "name": "Event",
         "rawType": "object",
         "type": "string"
        },
        {
         "name": "Location",
         "rawType": "object",
         "type": "string"
        },
        {
         "name": "Year",
         "rawType": "int64",
         "type": "integer"
        },
        {
         "name": "Medal",
         "rawType": "object",
         "type": "string"
        },
        {
         "name": "Name",
         "rawType": "object",
         "type": "string"
        },
        {
         "name": "Nationality",
         "rawType": "object",
         "type": "string"
        },
        {
         "name": "Result",
         "rawType": "object",
         "type": "string"
        }
       ],
       "conversionMethod": "pd.DataFrame",
       "ref": "c8acee73-7e77-45c0-a027-defb1f6ca077",
       "rows": [
        [
         "0",
         "M",
         "10000M Men",
         "Rio",
         "2016",
         "G",
         "Mohamed FARAH",
         "GBR",
         "25:05.17"
        ],
        [
         "1",
         "M",
         "10000M Men",
         "Rio",
         "2016",
         "S",
         "Paul Kipngetich TANUI",
         "KEN",
         "27:05.64"
        ],
        [
         "2",
         "M",
         "10000M Men",
         "Rio",
         "2016",
         "B",
         "Tamirat TOLA",
         "ETH",
         "27:06.26"
        ],
        [
         "3",
         "M",
         "10000M Men",
         "Beijing",
         "2008",
         "G",
         "Kenenisa BEKELE",
         "ETH",
         "27:01.17"
        ],
        [
         "4",
         "M",
         "10000M Men",
         "Beijing",
         "2008",
         "S",
         "Sileshi SIHINE",
         "ETH",
         "27:02.77"
        ],
        [
         "5",
         "M",
         "10000M Men",
         "Beijing",
         "2008",
         "B",
         "Micah KOGO",
         "KEN",
         "27:04.11"
        ],
        [
         "6",
         "M",
         "10000M Men",
         "Sydney",
         "2000",
         "G",
         "Haile GEBRSELASSIE",
         "ETH",
         "27:18.20"
        ],
        [
         "7",
         "M",
         "10000M Men",
         "Sydney",
         "2000",
         "S",
         "Paul TERGAT",
         "KEN",
         "27:18.29"
        ],
        [
         "8",
         "M",
         "10000M Men",
         "Sydney",
         "2000",
         "B",
         "Assefa MEZGEBU",
         "ETH",
         "27:19.75"
        ],
        [
         "9",
         "M",
         "10000M Men",
         "Barcelona",
         "1992",
         "G",
         "Khalid SKAH",
         "MAR",
         "27:46.70"
        ],
        [
         "10",
         "M",
         "10000M Men",
         "Barcelona",
         "1992",
         "S",
         "Richard CHELIMO",
         "KEN",
         "27:47.72"
        ],
        [
         "11",
         "M",
         "10000M Men",
         "Barcelona",
         "1992",
         "B",
         "Addis ABEBE",
         "ETH",
         "28:00.07"
        ],
        [
         "12",
         "M",
         "10000M Men",
         "Los Angeles",
         "1984",
         "G",
         "Alberto COVA",
         "ITA",
         "27:47.54"
        ],
        [
         "13",
         "M",
         "10000M Men",
         "Los Angeles",
         "1984",
         "S",
         "Michael MCLEOD",
         "GBR",
         "28:06.22"
        ],
        [
         "14",
         "M",
         "10000M Men",
         "Los Angeles",
         "1984",
         "B",
         "Michael MUSYOKI",
         "KEN",
         "28:06.46"
        ],
        [
         "15",
         "M",
         "10000M Men",
         "Montreal",
         "1976",
         "G",
         "Lasse VIREN",
         "FIN",
         "27:40.38"
        ],
        [
         "16",
         "M",
         "10000M Men",
         "Montreal",
         "1976",
         "S",
         "Carlos LOPES",
         "POR",
         "27:45.17"
        ],
        [
         "17",
         "M",
         "10000M Men",
         "Montreal",
         "1976",
         "B",
         "Brendan FOSTER",
         "GBR",
         "27:54.92"
        ],
        [
         "18",
         "M",
         "10000M Men",
         "Mexico",
         "1968",
         "G",
         "Naftali TEMU",
         "KEN",
         "29:27.4"
        ],
        [
         "19",
         "M",
         "10000M Men",
         "Mexico",
         "1968",
         "S",
         "Mamo WOLDE",
         "ETH",
         "29:28.0"
        ],
        [
         "20",
         "M",
         "10000M Men",
         "Mexico",
         "1968",
         "B",
         "Mohamed GAMMOUDI",
         "TUN",
         "29:34.2"
        ],
        [
         "21",
         "M",
         "10000M Men",
         "Rome",
         "1960",
         "G",
         "Pyotr BOLOTNIKOV",
         "URS",
         "28:32.2"
        ],
        [
         "22",
         "M",
         "10000M Men",
         "Rome",
         "1960",
         "S",
         "Hans GRODOTZKI",
         "EUA",
         "28:37.0"
        ],
        [
         "23",
         "M",
         "10000M Men",
         "Rome",
         "1960",
         "B",
         "David POWER",
         "AUS",
         "28:38.2"
        ],
        [
         "24",
         "M",
         "10000M Men",
         "Helsinki",
         "1952",
         "G",
         "Emil ZÃTOPEK",
         "TCH",
         "29:17.0"
        ],
        [
         "25",
         "M",
         "10000M Men",
         "Helsinki",
         "1952",
         "S",
         "Alain MIMOUN",
         "FRA",
         "29:32.8"
        ],
        [
         "26",
         "M",
         "10000M Men",
         "Helsinki",
         "1952",
         "B",
         "Aleksandr ANUFRIYEV",
         "URS",
         "29:48.2"
        ],
        [
         "27",
         "M",
         "10000M Men",
         "Berlin",
         "1936",
         "G",
         "Ilmari SALMINEN",
         "FIN",
         "30:15.4"
        ],
        [
         "28",
         "M",
         "10000M Men",
         "Berlin",
         "1936",
         "S",
         "Arvo ASKOLA",
         "FIN",
         "30:15.6"
        ],
        [
         "29",
         "M",
         "10000M Men",
         "Berlin",
         "1936",
         "B",
         "Volmari ISO-HOLLO",
         "FIN",
         "30:20.2"
        ],
        [
         "30",
         "M",
         "10000M Men",
         "Amsterdam",
         "1928",
         "G",
         "Paavo NURMI",
         "FIN",
         "30:18.8"
        ],
        [
         "31",
         "M",
         "10000M Men",
         "Amsterdam",
         "1928",
         "S",
         "Ville RITOLA",
         "FIN",
         "30:19.4"
        ],
        [
         "32",
         "M",
         "10000M Men",
         "Amsterdam",
         "1928",
         "B",
         "Edvin WIDE",
         "SWE",
         "31:00.8"
        ],
        [
         "33",
         "M",
         "10000M Men",
         "Antwerp",
         "1920",
         "G",
         "Paavo NURMI",
         "FIN",
         "31:45.8"
        ],
        [
         "34",
         "M",
         "10000M Men",
         "Antwerp",
         "1920",
         "S",
         "Joseph GUILLEMOT",
         "FRA",
         "31:47.2"
        ],
        [
         "35",
         "M",
         "10000M Men",
         "Antwerp",
         "1920",
         "B",
         "James WILSON",
         "GBR",
         "31:50.8"
        ],
        [
         "36",
         "M",
         "10000M Men",
         "London",
         "2012",
         "G",
         "Mohamed FARAH",
         "GBR",
         "27:30.42"
        ],
        [
         "37",
         "M",
         "10000M Men",
         "London",
         "2012",
         "S",
         "Galen RUPP",
         "USA",
         "27:30.90"
        ],
        [
         "38",
         "M",
         "10000M Men",
         "London",
         "2012",
         "B",
         "Tariku BEKELE",
         "ETH",
         "27:31.43"
        ],
        [
         "39",
         "M",
         "10000M Men",
         "Athens",
         "2004",
         "G",
         "Kenenisa BEKELE",
         "ETH",
         "27:05.10"
        ],
        [
         "40",
         "M",
         "10000M Men",
         "Athens",
         "2004",
         "S",
         "Sileshi SIHINE",
         "ETH",
         "27:09.39"
        ],
        [
         "41",
         "M",
         "10000M Men",
         "Athens",
         "2004",
         "B",
         "Zersenay TADESE",
         "ERI",
         "27:22.57"
        ],
        [
         "42",
         "M",
         "10000M Men",
         "Atlanta",
         "1996",
         "G",
         "Haile GEBRSELASSIE",
         "ETH",
         "27:07.34"
        ],
        [
         "43",
         "M",
         "10000M Men",
         "Atlanta",
         "1996",
         "S",
         "Paul TERGAT",
         "KEN",
         "27:08.17"
        ],
        [
         "44",
         "M",
         "10000M Men",
         "Atlanta",
         "1996",
         "B",
         "Salah HISSOU",
         "MAR",
         "27:24.67"
        ],
        [
         "45",
         "M",
         "10000M Men",
         "Moscow",
         "1980",
         "G",
         "Miruts YIFTER",
         "ETH",
         "27:42.7"
        ],
        [
         "46",
         "M",
         "10000M Men",
         "Moscow",
         "1980",
         "S",
         "Kaarlo MAANINKA",
         "FIN",
         "27:44.3"
        ],
        [
         "47",
         "M",
         "10000M Men",
         "Moscow",
         "1980",
         "B",
         "Mohammed KEDIR",
         "ETH",
         "27:44.7"
        ],
        [
         "48",
         "M",
         "10000M Men",
         "Munich",
         "1972",
         "G",
         "Lasse VIREN",
         "FIN",
         "27:38.35"
        ],
        [
         "49",
         "M",
         "10000M Men",
         "Munich",
         "1972",
         "S",
         "Emiel PUTTEMANS",
         "BEL",
         "27:39.58"
        ]
       ],
       "shape": {
        "columns": 8,
        "rows": 2394
       }
      },
      "text/html": [
       "<div>\n",
       "<style scoped>\n",
       "    .dataframe tbody tr th:only-of-type {\n",
       "        vertical-align: middle;\n",
       "    }\n",
       "\n",
       "    .dataframe tbody tr th {\n",
       "        vertical-align: top;\n",
       "    }\n",
       "\n",
       "    .dataframe thead th {\n",
       "        text-align: right;\n",
       "    }\n",
       "</style>\n",
       "<table border=\"1\" class=\"dataframe\">\n",
       "  <thead>\n",
       "    <tr style=\"text-align: right;\">\n",
       "      <th></th>\n",
       "      <th>Gender</th>\n",
       "      <th>Event</th>\n",
       "      <th>Location</th>\n",
       "      <th>Year</th>\n",
       "      <th>Medal</th>\n",
       "      <th>Name</th>\n",
       "      <th>Nationality</th>\n",
       "      <th>Result</th>\n",
       "    </tr>\n",
       "  </thead>\n",
       "  <tbody>\n",
       "    <tr>\n",
       "      <th>0</th>\n",
       "      <td>M</td>\n",
       "      <td>10000M Men</td>\n",
       "      <td>Rio</td>\n",
       "      <td>2016</td>\n",
       "      <td>G</td>\n",
       "      <td>Mohamed FARAH</td>\n",
       "      <td>GBR</td>\n",
       "      <td>25:05.17</td>\n",
       "    </tr>\n",
       "    <tr>\n",
       "      <th>1</th>\n",
       "      <td>M</td>\n",
       "      <td>10000M Men</td>\n",
       "      <td>Rio</td>\n",
       "      <td>2016</td>\n",
       "      <td>S</td>\n",
       "      <td>Paul Kipngetich TANUI</td>\n",
       "      <td>KEN</td>\n",
       "      <td>27:05.64</td>\n",
       "    </tr>\n",
       "    <tr>\n",
       "      <th>2</th>\n",
       "      <td>M</td>\n",
       "      <td>10000M Men</td>\n",
       "      <td>Rio</td>\n",
       "      <td>2016</td>\n",
       "      <td>B</td>\n",
       "      <td>Tamirat TOLA</td>\n",
       "      <td>ETH</td>\n",
       "      <td>27:06.26</td>\n",
       "    </tr>\n",
       "    <tr>\n",
       "      <th>3</th>\n",
       "      <td>M</td>\n",
       "      <td>10000M Men</td>\n",
       "      <td>Beijing</td>\n",
       "      <td>2008</td>\n",
       "      <td>G</td>\n",
       "      <td>Kenenisa BEKELE</td>\n",
       "      <td>ETH</td>\n",
       "      <td>27:01.17</td>\n",
       "    </tr>\n",
       "    <tr>\n",
       "      <th>4</th>\n",
       "      <td>M</td>\n",
       "      <td>10000M Men</td>\n",
       "      <td>Beijing</td>\n",
       "      <td>2008</td>\n",
       "      <td>S</td>\n",
       "      <td>Sileshi SIHINE</td>\n",
       "      <td>ETH</td>\n",
       "      <td>27:02.77</td>\n",
       "    </tr>\n",
       "    <tr>\n",
       "      <th>...</th>\n",
       "      <td>...</td>\n",
       "      <td>...</td>\n",
       "      <td>...</td>\n",
       "      <td>...</td>\n",
       "      <td>...</td>\n",
       "      <td>...</td>\n",
       "      <td>...</td>\n",
       "      <td>...</td>\n",
       "    </tr>\n",
       "    <tr>\n",
       "      <th>2389</th>\n",
       "      <td>W</td>\n",
       "      <td>Triple Jump Women</td>\n",
       "      <td>Athens</td>\n",
       "      <td>2004</td>\n",
       "      <td>S</td>\n",
       "      <td>Hrysopiyi DEVETZI</td>\n",
       "      <td>GRE</td>\n",
       "      <td>15.25</td>\n",
       "    </tr>\n",
       "    <tr>\n",
       "      <th>2390</th>\n",
       "      <td>W</td>\n",
       "      <td>Triple Jump Women</td>\n",
       "      <td>Athens</td>\n",
       "      <td>2004</td>\n",
       "      <td>B</td>\n",
       "      <td>Tatyana LEBEDEVA</td>\n",
       "      <td>RUS</td>\n",
       "      <td>15.14</td>\n",
       "    </tr>\n",
       "    <tr>\n",
       "      <th>2391</th>\n",
       "      <td>W</td>\n",
       "      <td>Triple Jump Women</td>\n",
       "      <td>Atlanta</td>\n",
       "      <td>1996</td>\n",
       "      <td>G</td>\n",
       "      <td>Inessa KRAVETS</td>\n",
       "      <td>UKR</td>\n",
       "      <td>15.33</td>\n",
       "    </tr>\n",
       "    <tr>\n",
       "      <th>2392</th>\n",
       "      <td>W</td>\n",
       "      <td>Triple Jump Women</td>\n",
       "      <td>Atlanta</td>\n",
       "      <td>1996</td>\n",
       "      <td>S</td>\n",
       "      <td>Inna LASOVSKAYA</td>\n",
       "      <td>RUS</td>\n",
       "      <td>14.98</td>\n",
       "    </tr>\n",
       "    <tr>\n",
       "      <th>2393</th>\n",
       "      <td>W</td>\n",
       "      <td>Triple Jump Women</td>\n",
       "      <td>Atlanta</td>\n",
       "      <td>1996</td>\n",
       "      <td>B</td>\n",
       "      <td>Sarka KASPARKOVA</td>\n",
       "      <td>CZE</td>\n",
       "      <td>14.98</td>\n",
       "    </tr>\n",
       "  </tbody>\n",
       "</table>\n",
       "<p>2394 rows × 8 columns</p>\n",
       "</div>"
      ],
      "text/plain": [
       "     Gender              Event Location  Year Medal                   Name  \\\n",
       "0         M         10000M Men      Rio  2016     G          Mohamed FARAH   \n",
       "1         M         10000M Men      Rio  2016     S  Paul Kipngetich TANUI   \n",
       "2         M         10000M Men      Rio  2016     B           Tamirat TOLA   \n",
       "3         M         10000M Men  Beijing  2008     G        Kenenisa BEKELE   \n",
       "4         M         10000M Men  Beijing  2008     S         Sileshi SIHINE   \n",
       "...     ...                ...      ...   ...   ...                    ...   \n",
       "2389      W  Triple Jump Women   Athens  2004     S      Hrysopiyi DEVETZI   \n",
       "2390      W  Triple Jump Women   Athens  2004     B       Tatyana LEBEDEVA   \n",
       "2391      W  Triple Jump Women  Atlanta  1996     G         Inessa KRAVETS   \n",
       "2392      W  Triple Jump Women  Atlanta  1996     S        Inna LASOVSKAYA   \n",
       "2393      W  Triple Jump Women  Atlanta  1996     B       Sarka KASPARKOVA   \n",
       "\n",
       "     Nationality    Result  \n",
       "0            GBR  25:05.17  \n",
       "1            KEN  27:05.64  \n",
       "2            ETH  27:06.26  \n",
       "3            ETH  27:01.17  \n",
       "4            ETH  27:02.77  \n",
       "...          ...       ...  \n",
       "2389         GRE     15.25  \n",
       "2390         RUS     15.14  \n",
       "2391         UKR     15.33  \n",
       "2392         RUS     14.98  \n",
       "2393         CZE     14.98  \n",
       "\n",
       "[2394 rows x 8 columns]"
      ]
     },
     "execution_count": 9,
     "metadata": {},
     "output_type": "execute_result"
    }
   ],
   "source": [
    "df = pd.read_csv(\"olympic_medals.csv\")\n",
    "df"
   ]
  },
  {
   "cell_type": "markdown",
   "metadata": {},
   "source": [
    "### Features of Pandas\n",
    "\n",
    "The code snippets above demonstrate two of the library highlights from the pandas [about page](https://pandas.pydata.org/about/):\n",
    "\n",
    "* A fast and efficient **DataFrame** object for data manipulation with integrated indexing;\n",
    "* Tools for **reading and writing data between in-memory data structures and different formats**: CSV and text files, Microsoft Excel, SQL databases, and the fast HDF5 format;\n",
    "\n",
    "Other highlights include:\n",
    "\n",
    "* Intelligent data alignment and integrated **handling of missing data**: gain automatic label-based alignment in computations and easily manipulate messy data into an orderly form;\n",
    "* Flexible **reshaping and pivoting** of data sets;\n",
    "* Intelligent label-based **slicing**, fancy indexing, and **subsetting** of large data sets;\n",
    "* Aggregating or transforming data with a powerful **group by** engine allowing split-apply-combine operations on data sets;\n",
    "* High performance **merging and joining** of data sets;\n",
    "* **Time series**-functionality: date range generation and frequency conversion, moving window statistics, date shifting and lagging. Even create domain-specific time offsets and join time series without losing data;\n",
    "* Highly **optimized for performance**, with critical code paths written in Cython or C.\n",
    "\n",
    "We will begin to dive into these features in this section!"
   ]
  }
 ],
 "metadata": {
  "kernelspec": {
   "display_name": "learn-env",
   "language": "python",
   "name": "python3"
  },
  "language_info": {
   "codemirror_mode": {
    "name": "ipython",
    "version": 3
   },
   "file_extension": ".py",
   "mimetype": "text/x-python",
   "name": "python",
   "nbconvert_exporter": "python",
   "pygments_lexer": "ipython3",
   "version": "3.8.5"
  }
 },
 "nbformat": 4,
 "nbformat_minor": 4
}
